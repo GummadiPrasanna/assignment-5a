{
 "cells": [
  {
   "cell_type": "code",
   "execution_count": null,
   "id": "0cc15286",
   "metadata": {},
   "outputs": [],
   "source": [
    "3. Create a dict with your family members(at least 10 names)?\n",
    "expected output : { \"family_members\" : your family member details}"
   ]
  },
  {
   "cell_type": "code",
   "execution_count": 6,
   "id": "adef2e7f",
   "metadata": {},
   "outputs": [],
   "source": [
    "dict={\"family_members\":[\"gopalakrishna\",\"veeraswami\",\"venkateswaramma\",\"srinivasarao\",\"sujatha\",\"sravani\",\"chitra\",\"pawan\",\"devi\"]}"
   ]
  },
  {
   "cell_type": "code",
   "execution_count": 7,
   "id": "05008bad",
   "metadata": {},
   "outputs": [
    {
     "name": "stdout",
     "output_type": "stream",
     "text": [
      "{'family_members': ['gopalakrishna', 'veeraswami', 'venkateswaramma', 'srinivasarao', 'sujatha', 'sravani', 'chitra', 'pawan', 'devi']}\n"
     ]
    }
   ],
   "source": [
    "print(dict)"
   ]
  },
  {
   "cell_type": "code",
   "execution_count": null,
   "id": "82c272a0",
   "metadata": {},
   "outputs": [],
   "source": [
    "4: Create a dict with your family members and relations(at least 10 names and relations)?\n",
    "Expected output: { \"family_members\" : your family member details , \"relations\": your relation with your family member}\n",
    "write a program to print your father name?\n",
    "write a program to print your favorite family member name?"
   ]
  },
  {
   "cell_type": "code",
   "execution_count": 3,
   "id": "c6a940d4",
   "metadata": {},
   "outputs": [
    {
     "name": "stdout",
     "output_type": "stream",
     "text": [
      "{'family_members': ['gopalakrishna', 'veeraswami', 'venkateswaramma', 'srinivasarao', 'sujatha', 'sravani', 'chitra', 'pawan', 'devi'], 'relations': ['husband', 'uncle', 'aunt', 'father', 'mother', 'sister', 'sister', 'brother_in_law', 'sister']}\n"
     ]
    }
   ],
   "source": [
    "dict={\"family_members\":[\"gopalakrishna\",\"veeraswami\",\"venkateswaramma\",\"srinivasarao\",\"sujatha\",\"sravani\",\"chitra\",\"pawan\",\"devi\"],\"relations\":[\"husband\",\"uncle\",\"aunt\",\"father\",\"mother\",\"sister\",\"sister\",\"brother_in_law\",\"sister\"]}\n",
    "print(dict)"
   ]
  },
  {
   "cell_type": "code",
   "execution_count": 5,
   "id": "2485d861",
   "metadata": {},
   "outputs": [
    {
     "data": {
      "text/plain": [
       "'srinivasarao'"
      ]
     },
     "execution_count": 5,
     "metadata": {},
     "output_type": "execute_result"
    }
   ],
   "source": [
    "dict[\"family_members\"][3]"
   ]
  },
  {
   "cell_type": "code",
   "execution_count": 7,
   "id": "b2563b3a",
   "metadata": {},
   "outputs": [
    {
     "data": {
      "text/plain": [
       "'gopalakrishna'"
      ]
     },
     "execution_count": 7,
     "metadata": {},
     "output_type": "execute_result"
    }
   ],
   "source": [
    "dict[\"family_members\"][0]"
   ]
  },
  {
   "cell_type": "code",
   "execution_count": null,
   "id": "64bc1513",
   "metadata": {},
   "outputs": [],
   "source": [
    "5: Create a your friend names and their quality(at least 10 names)?\n",
    "Expected output: {\"friend_names\" : your friend names, \"quality\" : your friend quality}\n",
    "Example output: {\"friend_names\": [\"ravi\",\"shekar\", \"abbas\",\"jhonny\"], \"quality\" : [\"talk active\", \"anger\", \"intelligent\", \"funny\"]}\n",
    "write a program to print your intelligent friend name?\n",
    "write a program to print your best friend name?"
   ]
  },
  {
   "cell_type": "code",
   "execution_count": 4,
   "id": "7a9b0eee",
   "metadata": {},
   "outputs": [],
   "source": [
    "dict={\"friend_names\":[\"mamatha\",\"meghana\",\"pavani\",\"sravani\",\"bhavani\",\"lukky\",\"vijju\",\"madhupriya\",\"mallika\",\"siru\"],\"quality\":[\"intelligent\",\"helpful\",\"anger\",\"talk active\",\"honest\",\"funny\",\"anger\",\"brave\",\"responsible\",\"funny\"]}"
   ]
  },
  {
   "cell_type": "code",
   "execution_count": 5,
   "id": "66e8101b",
   "metadata": {},
   "outputs": [
    {
     "name": "stdout",
     "output_type": "stream",
     "text": [
      "{'friend_names': ['mamatha', 'meghana', 'pavani', 'sravani', 'bhavani', 'lukky', 'vijju', 'madhupriya', 'mallika', 'siru'], 'quality': ['intelligent', 'helpful', 'anger', 'talk active', 'honest', 'funny', 'anger', 'brave', 'responsible', 'funny']}\n"
     ]
    }
   ],
   "source": [
    "print(dict)"
   ]
  },
  {
   "cell_type": "code",
   "execution_count": 24,
   "id": "7a2b8488",
   "metadata": {},
   "outputs": [
    {
     "name": "stdout",
     "output_type": "stream",
     "text": [
      "intelligent friend name is meghana\n"
     ]
    }
   ],
   "source": [
    "print(\"intelligent friend name is\",dict[\"friend_names\"][1])"
   ]
  },
  {
   "cell_type": "code",
   "execution_count": 6,
   "id": "f7d6e789",
   "metadata": {},
   "outputs": [
    {
     "name": "stdout",
     "output_type": "stream",
     "text": [
      "best friend name is mamatha\n"
     ]
    }
   ],
   "source": [
    "print(\"best friend name is\",dict[\"friend_names\"][0])"
   ]
  },
  {
   "cell_type": "code",
   "execution_count": null,
   "id": "1252cf40",
   "metadata": {},
   "outputs": [],
   "source": [
    "6: Create a your favorite food names and your rating(at least 10 names)?\n",
    "Expected output: {\"veg_items\" : food names, \"rating\" : your rating}\n",
    "{\"nonveg_items\" : food names, \"rating\" : your rating}\n",
    "write a program to print your rating 1 food name?"
   ]
  },
  {
   "cell_type": "code",
   "execution_count": 15,
   "id": "63d638ea",
   "metadata": {},
   "outputs": [],
   "source": [
    "dict={\"veg_items\":[\"brinjal\",\"carrot\",\"beans\",\"ladyfingers\",\"potato\",\"tomoto\",\"bottlegard\",\"snakegard\",\"richgard\",\"cabbage\"],\"ratings\":[1,2,3,4,5,6,7,8,9,0]}"
   ]
  },
  {
   "cell_type": "code",
   "execution_count": 16,
   "id": "bc65fd91",
   "metadata": {},
   "outputs": [
    {
     "name": "stdout",
     "output_type": "stream",
     "text": [
      "{'veg_items': ['brinjal', 'carrot', 'beans', 'ladyfingers', 'potato', 'tomoto', 'bottlegard', 'snakegard', 'richgard', 'cabbage'], 'ratings': [1, 2, 3, 4, 5, 6, 7, 8, 9, 0]}\n"
     ]
    }
   ],
   "source": [
    "print(dict)"
   ]
  },
  {
   "cell_type": "code",
   "execution_count": 18,
   "id": "2d7f73f5",
   "metadata": {},
   "outputs": [
    {
     "name": "stdout",
     "output_type": "stream",
     "text": [
      "rating food name is carrot\n"
     ]
    }
   ],
   "source": [
    "print(\"rating food name is\",dict[\"veg_items\"][1])"
   ]
  },
  {
   "cell_type": "code",
   "execution_count": 1,
   "id": "d5f1582a",
   "metadata": {},
   "outputs": [],
   "source": [
    "dict={\"nonveg_items\":[\"chiken\",\"mutton\",\"egg\",\"crabe\",\"fish\",\"chikenbiriyani\",\"chikenfry\",\"fishcurry\",\"fishfry\",\"chikencurry\"],\"ratings\":[1,2,3,4,5,6,7,8,9,0]}"
   ]
  },
  {
   "cell_type": "code",
   "execution_count": 2,
   "id": "dcc5f42c",
   "metadata": {},
   "outputs": [
    {
     "name": "stdout",
     "output_type": "stream",
     "text": [
      "{'nonveg_items': ['chiken', 'mutton', 'egg', 'crabe', 'fish', 'chikenbiriyani', 'chikenfry', 'fishcurry', 'fishfry', 'chikencurry'], 'ratings': [1, 2, 3, 4, 5, 6, 7, 8, 9, 0]}\n"
     ]
    }
   ],
   "source": [
    "print(dict)"
   ]
  },
  {
   "cell_type": "code",
   "execution_count": 3,
   "id": "0b0ec8a6",
   "metadata": {},
   "outputs": [
    {
     "name": "stdout",
     "output_type": "stream",
     "text": [
      "rating food name is chiken\n"
     ]
    }
   ],
   "source": [
    "print(\"rating food name is\",dict[\"nonveg_items\"][0])"
   ]
  },
  {
   "cell_type": "code",
   "execution_count": null,
   "id": "9dab8264",
   "metadata": {},
   "outputs": [],
   "source": [
    "7: Create a your favorite destination(cities) names and your rating(at least 10 names)?\n",
    "Expected output: {\"destination\" : cities name, \"rating\" : your rating}"
   ]
  },
  {
   "cell_type": "code",
   "execution_count": 4,
   "id": "279d3780",
   "metadata": {},
   "outputs": [],
   "source": [
    "dict={\"destination\":[\"machilipatnam\",\"vijayawada\",\"hydrebad\",\"vishakapatnam\",\"vijayanagaram\",\"delhi\",\"mumbai\",\"kolkata\",\"pune\",\"maharastra\"],\"ratings\":[1,2,3,4,5,6,7,8,9,0]}"
   ]
  },
  {
   "cell_type": "code",
   "execution_count": 5,
   "id": "01a9d59b",
   "metadata": {},
   "outputs": [
    {
     "name": "stdout",
     "output_type": "stream",
     "text": [
      "{'destination': ['machilipatnam', 'vijayawada', 'hydrebad', 'vishakapatnam', 'vijayanagaram', 'delhi', 'mumbai', 'kolkata', 'pune', 'maharastra'], 'ratings': [1, 2, 3, 4, 5, 6, 7, 8, 9, 0]}\n"
     ]
    }
   ],
   "source": [
    "print(dict)"
   ]
  },
  {
   "cell_type": "code",
   "execution_count": null,
   "id": "db70a0cb",
   "metadata": {},
   "outputs": [],
   "source": [
    "8: Create a your favorite destination(cities) names and your rating(at least 10 names)?\n",
    "Expected output: {\"destination\" : cities name, \"rating\" : your rating}\n",
    "write a program to print your rating 3 city name?"
   ]
  },
  {
   "cell_type": "code",
   "execution_count": 6,
   "id": "71839369",
   "metadata": {},
   "outputs": [],
   "source": [
    "dict={\"destination\":[\"machilipatnam\",\"vijayawada\",\"hydrebad\",\"vishakapatnam\",\"vijayanagaram\",\"delhi\",\"mumbai\",\"kolkata\",\"pune\",\"maharastra\"],\"ratings\":[1,2,3,4,5,6,7,8,9,0]}"
   ]
  },
  {
   "cell_type": "code",
   "execution_count": 7,
   "id": "1fd5755f",
   "metadata": {},
   "outputs": [
    {
     "name": "stdout",
     "output_type": "stream",
     "text": [
      "{'destination': ['machilipatnam', 'vijayawada', 'hydrebad', 'vishakapatnam', 'vijayanagaram', 'delhi', 'mumbai', 'kolkata', 'pune', 'maharastra'], 'ratings': [1, 2, 3, 4, 5, 6, 7, 8, 9, 0]}\n"
     ]
    }
   ],
   "source": [
    "print(dict)"
   ]
  },
  {
   "cell_type": "code",
   "execution_count": 8,
   "id": "096e8954",
   "metadata": {},
   "outputs": [
    {
     "name": "stdout",
     "output_type": "stream",
     "text": [
      "rating 3 city name is vishakapatnam\n"
     ]
    }
   ],
   "source": [
    "print(\"rating 3 city name is\",dict[\"destination\"][3])"
   ]
  },
  {
   "cell_type": "code",
   "execution_count": null,
   "id": "abb909f3",
   "metadata": {},
   "outputs": [],
   "source": []
  }
 ],
 "metadata": {
  "kernelspec": {
   "display_name": "Python 3 (ipykernel)",
   "language": "python",
   "name": "python3"
  },
  "language_info": {
   "codemirror_mode": {
    "name": "ipython",
    "version": 3
   },
   "file_extension": ".py",
   "mimetype": "text/x-python",
   "name": "python",
   "nbconvert_exporter": "python",
   "pygments_lexer": "ipython3",
   "version": "3.10.9"
  }
 },
 "nbformat": 4,
 "nbformat_minor": 5
}
